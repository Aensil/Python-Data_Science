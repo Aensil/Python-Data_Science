{
  "nbformat": 4,
  "nbformat_minor": 0,
  "metadata": {
    "colab": {
      "provenance": []
    },
    "kernelspec": {
      "name": "python3",
      "display_name": "Python 3"
    },
    "language_info": {
      "name": "python"
    }
  },
  "cells": [
    {
      "cell_type": "code",
      "execution_count": null,
      "metadata": {
        "colab": {
          "base_uri": "https://localhost:8080/"
        },
        "id": "_zP7U5WkhUX1",
        "outputId": "575fc825-ba61-4fcb-9b08-d283ff0cdda4"
      },
      "outputs": [
        {
          "output_type": "stream",
          "name": "stdout",
          "text": [
            "[0, 1]\n",
            "[3, 2, 1, 0, 1, 4]\n",
            "[0, 1, 0, 1, 4]\n"
          ]
        }
      ],
      "source": [
        "def f(x, l=[]):\n",
        "  for i in range(x):\n",
        "    l.append(i*i)\n",
        "  print(l)\n",
        "f(2)\n",
        "f(3,[3,2,1])\n",
        "f(3)"
      ]
    },
    {
      "cell_type": "code",
      "source": [
        "a = [1,2,3,4]\n",
        "b = [sum(a[0:x+1]) for x in range(0, len(a))]\n",
        "print(b)"
      ],
      "metadata": {
        "colab": {
          "base_uri": "https://localhost:8080/"
        },
        "id": "mHFMF7arlKGO",
        "outputId": "c886b9a2-8ab9-4d57-9935-11332aceb1f1"
      },
      "execution_count": null,
      "outputs": [
        {
          "output_type": "stream",
          "name": "stdout",
          "text": [
            "[1, 3, 6, 10]\n"
          ]
        }
      ]
    },
    {
      "cell_type": "code",
      "source": [],
      "metadata": {
        "id": "5JLldVEklKV9"
      },
      "execution_count": null,
      "outputs": []
    }
  ]
}